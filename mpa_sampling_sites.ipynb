{
 "cells": [
  {
   "cell_type": "markdown",
   "metadata": {},
   "source": [
    "# Mapping out MPAs, bioregions, and the sampling sites"
   ]
  },
  {
   "cell_type": "code",
   "execution_count": 1,
   "metadata": {},
   "outputs": [],
   "source": [
    "# import libraries\n",
    "import os\n",
    "import salem\n",
    "import warnings\n",
    "\n",
    "import geopandas as gpd\n",
    "import shapefile\n",
    "import cartopy.crs as ccrs\n",
    "import cartopy.feature as cfeature\n",
    "from json import dumps\n",
    "\n",
    "import folium\n",
    "from folium.plugins import MarkerCluster\n",
    "\n",
    "import numpy as np\n",
    "import pandas as pd\n",
    "import xarray as xr\n"
   ]
  },
  {
   "cell_type": "code",
   "execution_count": 2,
   "metadata": {},
   "outputs": [],
   "source": [
    "# load shapefiles for bioregion and MPA polygons\n",
    "\n",
    "marine_sites = gpd.GeoDataFrame.from_file(\"Data/Shapefiles/sampling_sites/marine_sampling_sites.shp\")\n",
    "pisco_sites = gpd.GeoDataFrame.from_file(\"Data/Shapefiles/sampling_sites/pisco_sampling_sites.shp\")\n",
    "ccfrp_sites = gpd.GeoDataFrame.from_file(\"Data/Shapefiles/sampling_sites/ccfrp_sampling_sites.shp\")\n",
    "\n",
    "# split up into MPA vs reference sites\n",
    "marine_mpa_sites = marine_sites[marine_sites['mpa_design'] != 'reference'] \n",
    "marine_reference_sites = marine_sites[marine_sites['mpa_design'] == 'reference'] \n",
    "\n",
    "pisco_mpa_sites = pisco_sites[pisco_sites['reserve_st'] == 'MPA'] \n",
    "pisco_reference_sites = pisco_sites[pisco_sites['reserve_st'] == 'REF'] \n",
    "\n",
    "\n",
    "ccfrp_mpa_sites = ccfrp_sites[ccfrp_sites['reserve_st'] == 'MPA'] \n",
    "ccfrp_reference_sites = ccfrp_sites[ccfrp_sites['reserve_st'] == 'REF']"
   ]
  },
  {
   "cell_type": "code",
   "execution_count": 3,
   "metadata": {},
   "outputs": [],
   "source": [
    "# define plotting styles for the region/MPA polygons\n",
    "\n",
    "eez_style = {'fillOpacity': 0.5, 'fillColor': '#33ccff', 'color': '#0066ff', 'weight': 0.75}\n",
    "state_style = {'fillOpacity': 0.5, 'fillColor': '#0066ff', 'color': '#0000cc', 'weight': 0.75}\n",
    "mpa_style = {'fillOpacity': 0.5, 'fillColor': '#cc66ff', 'color': '#550080', 'weight': 0.75}\n",
    "\n"
   ]
  },
  {
   "cell_type": "code",
   "execution_count": 4,
   "metadata": {},
   "outputs": [],
   "source": [
    "# create base map\n",
    "\n",
    "mpa_map = folium.Map(location = [36.897, -121.923], zoom_start = 6, tiles = 'Stamen Terrain')\n"
   ]
  },
  {
   "cell_type": "code",
   "execution_count": 5,
   "metadata": {},
   "outputs": [
    {
     "data": {
      "text/plain": [
       "<folium.features.GeoJson at 0x7fdc815c1e10>"
      ]
     },
     "execution_count": 5,
     "metadata": {},
     "output_type": "execute_result"
    }
   ],
   "source": [
    "# add GeoJSONs for region/MPA polygons\n",
    "\n",
    "folium.GeoJson(\"Data/Shapefiles/eez_bioregions/ca_eez_all.geojson\",\n",
    "               name = \"eez_bioregions\",\n",
    "               style_function = lambda x: eez_style,\n",
    "              ).add_to(mpa_map)\n",
    "\n",
    "folium.GeoJson(\"Data/Shapefiles/state_waters_bioregions/ca_state_waters.geojson\",\n",
    "               name = \"state_bioregions\",\n",
    "               style_function = lambda x: state_style\n",
    "              ).add_to(mpa_map)\n",
    "\n",
    "folium.GeoJson(\"Data/Shapefiles/mpas/all_mpas/ca_all_mpas.geojson\",\n",
    "               name = \"mpas\",\n",
    "               style_function = lambda x: mpa_style\n",
    "              ).add_to(mpa_map)\n",
    "\n",
    "\n",
    "\n",
    "# GeoJson(geojson_data, popup=folium.GeoJsonPopup(fields=['NAME']))\n",
    "\n"
   ]
  },
  {
   "cell_type": "code",
   "execution_count": 6,
   "metadata": {},
   "outputs": [],
   "source": [
    "#  \n",
    "\n",
    "# MARINe sites\n",
    "## MPAs \n",
    "for longitude, latitude, marine_sit, start_date, end_date, number_sam in marine_mpa_sites[['longitude','latitude','marine_sit','start_date','end_date','number_sam']].values:\n",
    "    folium.Marker(location=[latitude,longitude],\n",
    "                  popup = folium.Popup('Program: MARINe <br> Site Name: {} <br> Status: MPA <br> Start Date: {} <br> End Date: {} <br> Number of Surveys: {}'\n",
    "                                       .format(marine_sit, start_date, end_date, number_sam),\n",
    "                                       max_width=450,min_width=450), \n",
    "                  icon = folium.Icon(color = 'red',\n",
    "                                     icon = 'star',\n",
    "                                     prefix = 'fa'),\n",
    "                  clustered_marker = True\n",
    "                  ).add_to(mpa_map)\n",
    "\n",
    "# Reference sites\n",
    "for longitude, latitude, marine_sit, start_date, end_date, number_sam in marine_reference_sites[['longitude','latitude','marine_sit','start_date','end_date','number_sam']].values:\n",
    "    folium.Marker(location=[latitude,longitude],\n",
    "                  popup = folium.Popup('Program: MARINe <br> Site Name: {} <br> Status: REF <br> Start Date: {} <br> End Date: {} <br> Number of Surveys: {}'\n",
    "                                       .format(marine_sit, start_date, end_date, number_sam),\n",
    "                                       max_width=450,min_width=450), \n",
    "                  icon = folium.Icon(color = 'red',\n",
    "                                     icon = 'circle',\n",
    "                                     prefix = 'fa'),\n",
    "                  clustered_marker = True\n",
    "                  ).add_to(mpa_map)\n",
    "    \n",
    "\n",
    "    \n",
    "# PISCO sites\n",
    "# MPAs\n",
    "for longitude, latitude, program, site_name, start_year, end_year, number_sam in pisco_mpa_sites[['longitude','latitude','program','site_name','start_year','end_year','number_sam']].values:\n",
    "    folium.Marker(location=[latitude,longitude],\n",
    "                  popup = folium.Popup('Program: PISCO/{} <br> Site Name: {} <br> Status: MPA <br> Start Year: {} <br> End Year: {} <br> Number of Surveys: {}'\n",
    "                                       .format(program, site_name, start_year, end_year, number_sam),\n",
    "                                       max_width=450,min_width=450), \n",
    "                  icon = folium.Icon(color = 'darkblue',\n",
    "                                     icon = 'star',\n",
    "                                     prefix = 'fa'\n",
    "                                     ),\n",
    "                  clustered_marker = True\n",
    "                 ).add_to(mpa_map)\n",
    "\n",
    "    \n",
    "# Reference sites\n",
    "for longitude, latitude, program, site_name, start_year, end_year, number_sam  in pisco_reference_sites[['longitude','latitude','program','site_name','start_year','end_year','number_sam']].values:\n",
    "    folium.Marker(location=[latitude,longitude],\n",
    "                  popup = folium.Popup('Program: PISCO/{} <br> Site Name: {} <br> Status: REF <br> Start Year: {} <br> End Year: {} <br> Number of Surveys: {}'\n",
    "                                       .format(program, site_name, start_year, end_year, number_sam),\n",
    "                                       max_width=450,min_width=450), \n",
    "                  icon = folium.Icon(color = 'darkblue',\n",
    "                                     icon = 'circle',\n",
    "                                     prefix = 'fa'\n",
    "                                     ),\n",
    "                  clustered_marker = True\n",
    "                 ).add_to(mpa_map)\n",
    "\n",
    "\n",
    "    \n",
    "# CCFRP sites\n",
    "## MPAs\n",
    "for longitude, latitude, site_name, start_year, end_year, number_sam in ccfrp_mpa_sites[['longitude','latitude','site_name','start_year','end_year','number_sam']].values:\n",
    "    folium.Marker(location=[latitude,longitude],\n",
    "                  popup = folium.Popup('Program: CCFRP <br> Site Name: {} <br> Status: MPA <br> Start Year: {} <br> End Year: {} <br> Number of Surveys: {}'\n",
    "                                       .format(site_name, start_year, end_year, number_sam),\n",
    "                                       max_width=450,min_width=450), \n",
    "                  icon = folium.Icon(color = 'darkpurple',\n",
    "                                     icon = 'star',\n",
    "                                     prefix = 'fa'),\n",
    "                  clustered_marker = True\n",
    "                 ).add_to(mpa_map)\n",
    "    \n",
    "## Reference sites\n",
    "for longitude, latitude, site_name, start_year, end_year, number_sam in ccfrp_reference_sites[['longitude','latitude','site_name','start_year','end_year','number_sam']].values:\n",
    "    folium.Marker(location=[latitude,longitude],\n",
    "                  popup = folium.Popup('Program: CCFRP <br> Site Name: {} <br> Status: REF <br> Start Year: {} <br> End Year: {} <br> Number of Surveys: {}'\n",
    "                                       .format(site_name, start_year, end_year, number_sam), \n",
    "                                       max_width=450,min_width=450), \n",
    "                  icon = folium.Icon(color = 'darkpurple',\n",
    "                                     icon = 'circle',\n",
    "                                     prefix = 'fa'),\n",
    "                  clustered_marker = True\n",
    "                 ).add_to(mpa_map)\n",
    "    "
   ]
  },
  {
   "cell_type": "code",
   "execution_count": 7,
   "metadata": {},
   "outputs": [],
   "source": [
    "# mpa_map\n",
    "\n",
    "mpa_map.save(\"Monitoring_Site_Map.html\")"
   ]
  },
  {
   "cell_type": "code",
   "execution_count": null,
   "metadata": {},
   "outputs": [],
   "source": []
  }
 ],
 "metadata": {
  "kernelspec": {
   "display_name": "Python 3",
   "language": "python",
   "name": "python3"
  },
  "language_info": {
   "codemirror_mode": {
    "name": "ipython",
    "version": 3
   },
   "file_extension": ".py",
   "mimetype": "text/x-python",
   "name": "python",
   "nbconvert_exporter": "python",
   "pygments_lexer": "ipython3",
   "version": "3.7.7"
  }
 },
 "nbformat": 4,
 "nbformat_minor": 4
}

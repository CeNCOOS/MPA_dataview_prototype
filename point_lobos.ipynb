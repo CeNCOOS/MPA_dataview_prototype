{
 "cells": [
  {
   "cell_type": "code",
   "execution_count": 1,
   "metadata": {},
   "outputs": [],
   "source": [
    "#libraries\n",
    "\n",
    "import statistics\n",
    "\n",
    "import salem\n",
    "import warnings\n",
    "\n",
    "import geopandas as gpd\n",
    "import cartopy.crs as ccrs\n",
    "import cartopy.feature as cfeature\n",
    "\n",
    "from plotnine import *\n",
    "import matplotlib.pyplot as plt\n",
    "from matplotlib.colors import Normalize, LogNorm, LinearSegmentedColormap\n",
    "import matplotlib\n",
    "import cmocean\n",
    "import seaborn as sns\n",
    "import folium\n",
    "\n",
    "import numpy as np\n",
    "import pandas as pd\n",
    "import xarray as xr\n",
    "from scipy import stats\n",
    "import datetime as dt\n",
    "from shapely.geometry import Point, Polygon\n",
    "\n",
    "\n",
    "import glob"
   ]
  },
  {
   "cell_type": "code",
   "execution_count": 2,
   "metadata": {},
   "outputs": [],
   "source": [
    "# load shapefile with all MPAs\n",
    "ca_mpas = gpd.GeoDataFrame.from_file(\"../MPA_dataview_prototype/Data/Shapefiles/mpas/all_mpas/ca_all_mpas.shp\")\n",
    "\n",
    "mpa_lobos_smr_shape = ca_mpas[ca_mpas['MPA_NAME'] == \"Point Lobos SMR\"]\n",
    "\n",
    "mpa_buchon_smr_shape = ca_mpas[ca_mpas['MPA_NAME'] == \"Point Buchon SMR\"]\n"
   ]
  },
  {
   "cell_type": "code",
   "execution_count": null,
   "metadata": {},
   "outputs": [],
   "source": []
  }
 ],
 "metadata": {
  "kernelspec": {
   "display_name": "Python 3",
   "language": "python",
   "name": "python3"
  },
  "language_info": {
   "codemirror_mode": {
    "name": "ipython",
    "version": 3
   },
   "file_extension": ".py",
   "mimetype": "text/x-python",
   "name": "python",
   "nbconvert_exporter": "python",
   "pygments_lexer": "ipython3",
   "version": "3.7.7"
  }
 },
 "nbformat": 4,
 "nbformat_minor": 4
}

{
 "cells": [
  {
   "cell_type": "markdown",
   "metadata": {},
   "source": [
    "## Download and subset Monterey "
   ]
  },
  {
   "cell_type": "code",
   "execution_count": 1,
   "metadata": {},
   "outputs": [],
   "source": [
    "import xarray as xr\n",
    "import salem\n",
    "import geopandas as gpd\n",
    "import numpy as np\n",
    "import matplotlib.pyplot as plt\n",
    "import cartopy.crs as ccrs"
   ]
  },
  {
   "cell_type": "markdown",
   "metadata": {},
   "source": [
    "__Load MPA Shape File__\n",
    "\n",
    "This shape will be used for the bounding box to subset the elevation model"
   ]
  },
  {
   "cell_type": "code",
   "execution_count": 2,
   "metadata": {},
   "outputs": [
    {
     "data": {
      "text/plain": [
       "<matplotlib.axes._subplots.AxesSubplot at 0x131848828>"
      ]
     },
     "execution_count": 2,
     "metadata": {},
     "output_type": "execute_result"
    },
    {
     "data": {
      "image/png": "[encoded data removed]",
      "text/plain": [
       "<Figure size 432x288 with 1 Axes>"
      ]
     },
     "metadata": {
      "needs_background": "light"
     },
     "output_type": "display_data"
    }
   ],
   "source": [
    "file = \"../Data/MPA Shapefiles/mpa_ca/mpa_caPolygon.shp\"\n",
    "mpa_shapes_epsg = gpd.GeoDataFrame.from_file(file)\n",
    "mpa_shapes_WGS84 = mpa_shapes_epsg.to_crs({'proj':'longlat', 'ellps':'WGS84', 'datum':'WGS84'})\n",
    "mpa_shape = mpa_shapes_WGS84[mpa_shapes_WGS84['name']==\"Año Nuevo SMCA\"]\n",
    "mpa_shape.plot()"
   ]
  },
  {
   "cell_type": "markdown",
   "metadata": {},
   "source": [
    "__Download the California elevation dataset__\n",
    "\n",
    "These datasets are regionally specific, so a mapping needs to be made for automating to the MPAs to the regional dataset. \n",
    "\n",
    "The data are access through the opendap services on NGDC (Now NCEI) THREDDS server (TDS). They will be lazy loaded and subsetted for the MPA and saved in the data directory."
   ]
  },
  {
   "cell_type": "code",
   "execution_count": 12,
   "metadata": {},
   "outputs": [],
   "source": [
    "url = \"https://www.ngdc.noaa.gov/thredds/dodsC/regional/monterey_13_mhw_2012.nc\"\n",
    "bathy = xr.open_dataset(url)"
   ]
  },
  {
   "cell_type": "code",
   "execution_count": 13,
   "metadata": {},
   "outputs": [
    {
     "name": "stdout",
     "output_type": "stream",
     "text": [
      "-122.267 -122.3642\n",
      "37.1667 37.0783\n"
     ]
    }
   ],
   "source": [
    "bounds = mpa_shape['geometry'].bounds\n",
    "maxx = round(bounds['maxx'].values[0],4)\n",
    "minx = round(bounds['minx'].values[0],4)\n",
    "maxy = round(bounds['maxy'].values[0],4)\n",
    "miny = round(bounds['miny'].values[0],4)\n",
    "print(maxx,minx)\n",
    "print(maxy,miny)"
   ]
  },
  {
   "cell_type": "code",
   "execution_count": 14,
   "metadata": {},
   "outputs": [],
   "source": [
    "ano_bathy = bathy.sel(lat=slice(miny-.25, maxy+.25),lon=slice(maxx-.25, minx+.25)).load()\n",
    "ano_bathy.to_netcdf('../Data/MPA Bathy Subsets/ano_nuevo_SMR_bathy.nc')"
   ]
  },
  {
   "cell_type": "code",
   "execution_count": 11,
   "metadata": {},
   "outputs": [
    {
     "name": "stderr",
     "output_type": "stream",
     "text": [
      "/Users/patrick/anaconda3/lib/python3.7/site-packages/ipykernel_launcher.py:6: RuntimeWarning: invalid value encountered in greater\n",
      "  \n"
     ]
    },
    {
     "data": {
      "text/plain": [
       "<cartopy.mpl.geoaxes.GeoAxesSubplot at 0x133b41470>"
      ]
     },
     "execution_count": 11,
     "metadata": {},
     "output_type": "execute_result"
    },
    {
     "data": {
      "image/png": "[encoded data removed]",
      "text/plain": [
       "<Figure size 432x288 with 1 Axes>"
      ]
     },
     "metadata": {
      "needs_background": "light"
     },
     "output_type": "display_data"
    }
   ],
   "source": [
    "bathy = xr.open_dataset('../Data/MPA Bathy Subsets/ano_nuevo_SMR_bathy.nc')\n",
    "y = bathy['lat'].values\n",
    "x = bathy['lon'].values\n",
    "xx,yy = np.meshgrid(x, y)\n",
    "elv = bathy['Band1'].values\n",
    "elv[elv>0] = np.nan\n",
    "\n",
    "\n",
    "fig = plt.figure()\n",
    "ax = plt.axes(projection=ccrs.PlateCarree())\n",
    "ax.contourf(xx,yy,elv)\n",
    "mpa_shape.plot(ax=ax)\n",
    "mpa_shape.plot(ax=ax)"
   ]
  },
  {
   "cell_type": "code",
   "execution_count": null,
   "metadata": {},
   "outputs": [],
   "source": []
  }
 ],
 "metadata": {
  "kernelspec": {
   "display_name": "Python 3",
   "language": "python",
   "name": "python3"
  },
  "language_info": {
   "codemirror_mode": {
    "name": "ipython",
    "version": 3
   },
   "file_extension": ".py",
   "mimetype": "text/x-python",
   "name": "python",
   "nbconvert_exporter": "python",
   "pygments_lexer": "ipython3",
   "version": "3.7.3"
  }
 },
 "nbformat": 4,
 "nbformat_minor": 4
}
